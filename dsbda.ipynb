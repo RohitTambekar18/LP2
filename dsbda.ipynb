{
 "cells": [
  {
   "cell_type": "code",
   "execution_count": 1,
   "metadata": {},
   "outputs": [],
   "source": [
    "import pandas as pd\n",
    "import numpy as np"
   ]
  },
  {
   "cell_type": "code",
   "execution_count": 2,
   "metadata": {},
   "outputs": [],
   "source": [
    "diabetes_df = pd.read_csv('/Users/gayatri/Desktop/diabetes.csv')"
   ]
  },
  {
   "cell_type": "code",
   "execution_count": 9,
   "metadata": {},
   "outputs": [],
   "source": [
    "X = diabetes_df.drop('Outcome', axis=1).values\n",
    "y = diabetes_df['Outcome'].values\n",
    "w = np.zeros(X.shape[1])\n",
    "b = 0 "
   ]
  },
  {
   "cell_type": "code",
   "execution_count": 4,
   "metadata": {},
   "outputs": [],
   "source": [
    "def train_model(X, y):\n",
    "    w = np.zeros(X.shape[1])\n",
    "    b = 0 "
   ]
  },
  {
   "cell_type": "code",
   "execution_count": 5,
   "metadata": {},
   "outputs": [],
   "source": [
    "def sigmoid(z):\n",
    "    return 1 / (1 + np.exp(-z))"
   ]
  },
  {
   "cell_type": "code",
   "execution_count": 6,
   "metadata": {},
   "outputs": [],
   "source": [
    "def loss(X, y, w, b):\n",
    "    z = np.dot(X, w) + b\n",
    "    y_pred = sigmoid(z)\n",
    "    return -(np.sum(y*np.log(y_pred) + (1-y)*np.log(1-y_pred))) / X.shape[0]"
   ]
  },
  {
   "cell_type": "code",
   "execution_count": 7,
   "metadata": {},
   "outputs": [],
   "source": [
    "def gradient(X, y, w, b):\n",
    "    z = np.dot(X, w) + b\n",
    "    y_pred = sigmoid(z)\n",
    "    dw = np.dot(X.T, (y_pred - y)) / X.shape[0]\n",
    "    db = np.sum(y_pred - y) / X.shape[0]\n",
    "    return dw, db"
   ]
  },
  {
   "cell_type": "code",
   "execution_count": 16,
   "metadata": {},
   "outputs": [
    {
     "name": "stdout",
     "output_type": "stream",
     "text": [
      "Iteration: 0, Loss: nan\n",
      "Iteration: 1000, Loss: nan\n",
      "Iteration: 2000, Loss: nan\n",
      "Iteration: 3000, Loss: nan\n",
      "Iteration: 4000, Loss: 36.07785676645348\n",
      "Iteration: 5000, Loss: nan\n",
      "Iteration: 6000, Loss: nan\n",
      "Iteration: 7000, Loss: nan\n",
      "Iteration: 8000, Loss: nan\n",
      "Iteration: 9000, Loss: nan\n"
     ]
    },
    {
     "name": "stderr",
     "output_type": "stream",
     "text": [
      "/var/folders/b6/cc8gvfd57_zbnbb1x9pcww8r0000gn/T/ipykernel_5251/406192296.py:4: RuntimeWarning: divide by zero encountered in log\n",
      "  return -(np.sum(y*np.log(y_pred) + (1-y)*np.log(1-y_pred))) / X.shape[0]\n",
      "/var/folders/b6/cc8gvfd57_zbnbb1x9pcww8r0000gn/T/ipykernel_5251/406192296.py:4: RuntimeWarning: invalid value encountered in multiply\n",
      "  return -(np.sum(y*np.log(y_pred) + (1-y)*np.log(1-y_pred))) / X.shape[0]\n"
     ]
    }
   ],
   "source": [
    "alpha = 0.01\n",
    "num_iterations = 10000\n",
    "for i in range(num_iterations):\n",
    "    dw, db = gradient(X, y, w, b)\n",
    "    w -= alpha * dw\n",
    "    b-= alpha * db\n",
    "    if i % 1000 == 0:\n",
    "        print(\"Iteration: {}, Loss: {}\".format(i, loss(X, y, w,b)))\n"
   ]
  },
  {
   "cell_type": "code",
   "execution_count": 17,
   "metadata": {},
   "outputs": [
    {
     "name": "stdout",
     "output_type": "stream",
     "text": [
      "The person is not likely to have diabetes.\n"
     ]
    }
   ],
   "source": [
    "def predict_diabetes():\n",
    "    preg = float(input(\"Enter the number of times the person has been pregnant: \"))\n",
    "    glucose = float(input(\"Enter the person's glucose level: \"))\n",
    "    bp = float(input(\"Enter the person's blood pressure: \"))\n",
    "    skin = float(input(\"Enter the person's skin thickness: \"))\n",
    "    insulin = float(input(\"Enter the person's insulin level: \"))\n",
    "    bmi = float(input(\"Enter the person's BMI: \"))\n",
    "    dpf = float(input(\"Enter the person's Diabetes Pedigree Function:\"))\n",
    "    age = float(input(\"Enter the person's age: \"))\n",
    "    input_data = np.array([preg, glucose, bp, skin, insulin,bmi,dpf,age])\n",
    "    z = np.dot(input_data, w) + b\n",
    "    prediction = 1 / (1 + np.exp(-z))\n",
    "    if prediction < 0.5:\n",
    "        print(\"The person is not likely to have diabetes.\")\n",
    "    else:\n",
    "        print(\"The person is likely to have diabetes.\")\n",
    "predict_diabetes()"
   ]
  }
 ],
 "metadata": {
  "kernelspec": {
   "display_name": "Python 3",
   "language": "python",
   "name": "python3"
  },
  "language_info": {
   "codemirror_mode": {
    "name": "ipython",
    "version": 3
   },
   "file_extension": ".py",
   "mimetype": "text/x-python",
   "name": "python",
   "nbconvert_exporter": "python",
   "pygments_lexer": "ipython3",
   "version": "3.11.2"
  },
  "orig_nbformat": 4
 },
 "nbformat": 4,
 "nbformat_minor": 2
}
