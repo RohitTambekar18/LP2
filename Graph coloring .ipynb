{
 "cells": [
  {
   "cell_type": "code",
   "execution_count": 3,
   "id": "f674c9fd",
   "metadata": {},
   "outputs": [],
   "source": [
    "#Graph coloring"
   ]
  },
  {
   "cell_type": "code",
   "execution_count": 1,
   "id": "3082e6f8",
   "metadata": {},
   "outputs": [
    {
     "name": "stdout",
     "output_type": "stream",
     "text": [
      "Best coloring: ['Red', 'Green', 'Blue', 'Green']\n",
      "Minimum number of colors: 1\n"
     ]
    }
   ],
   "source": [
    "def graph_coloring(graph, colors):\n",
    "    num_vertices = len(graph)\n",
    "    color_map = [-1] * num_vertices\n",
    "    best_coloring = [-1] * num_vertices\n",
    "    min_colors = float('inf')\n",
    "\n",
    "    def is_valid(vertex, color):\n",
    "        for neighbor in graph[vertex]:\n",
    "            if color_map[neighbor] == color:\n",
    "                return False\n",
    "        return True\n",
    "\n",
    "    def backtrack(vertex):\n",
    "        nonlocal min_colors\n",
    "\n",
    "        if vertex == num_vertices:\n",
    "            nonlocal best_coloring, min_colors\n",
    "            if colors.index(max(color_map)) + 1 < min_colors:\n",
    "                best_coloring = color_map.copy()\n",
    "                min_colors = colors.index(max(color_map)) + 1\n",
    "            return\n",
    "\n",
    "        for color in colors:\n",
    "            if is_valid(vertex, color):\n",
    "                color_map[vertex] = color\n",
    "                backtrack(vertex + 1)\n",
    "                color_map[vertex] = -1\n",
    "\n",
    "    backtrack(0)\n",
    "    return best_coloring, min_colors\n",
    "\n",
    "\n",
    "# Example usage\n",
    "graph = {\n",
    "    0: [1, 2, 3],\n",
    "    1: [0, 2],\n",
    "    2: [0, 1, 3],\n",
    "    3: [0, 2]\n",
    "}\n",
    "\n",
    "colors = ['Red', 'Green', 'Blue']\n",
    "\n",
    "best_coloring, min_colors = graph_coloring(graph, colors)\n",
    "print(\"Best coloring:\", best_coloring)\n",
    "print(\"Minimum number of colors:\", min_colors)\n"
   ]
  }
 ],
 "metadata": {
  "kernelspec": {
   "display_name": "Python 3 (ipykernel)",
   "language": "python",
   "name": "python3"
  },
  "language_info": {
   "codemirror_mode": {
    "name": "ipython",
    "version": 3
   },
   "file_extension": ".py",
   "mimetype": "text/x-python",
   "name": "python",
   "nbconvert_exporter": "python",
   "pygments_lexer": "ipython3",
   "version": "3.11.3"
  }
 },
 "nbformat": 4,
 "nbformat_minor": 5
}
