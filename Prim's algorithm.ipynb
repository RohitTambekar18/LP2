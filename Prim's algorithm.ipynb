{
 "cells": [
  {
   "cell_type": "code",
   "execution_count": 1,
   "id": "eedcab14",
   "metadata": {},
   "outputs": [],
   "source": [
    "from queue import PriorityQueue\n",
    "\n",
    "def prim(graph):\n",
    "    # Select an arbitrary starting vertex\n",
    "    start_vertex = list(graph.keys())[0]\n",
    "    \n",
    "    # Create a priority queue to store vertices and their corresponding weights\n",
    "    pq = PriorityQueue()\n",
    "    pq.put((0, start_vertex))\n",
    "    \n",
    "    # Create a set to keep track of visited vertices\n",
    "    visited = set()\n",
    "    \n",
    "    # Initialize the minimum spanning tree\n",
    "    mst = []\n",
    "    \n",
    "    while not pq.empty():\n",
    "        # Get the vertex with the minimum weight\n",
    "        weight, current_vertex = pq.get()\n",
    "        \n",
    "        if current_vertex not in visited:\n",
    "            # Mark the current vertex as visited\n",
    "            visited.add(current_vertex)\n",
    "            \n",
    "            # Add the current vertex to the minimum spanning tree\n",
    "            mst.append((weight, current_vertex))\n",
    "            \n",
    "            # Explore the neighbors of the current vertex\n",
    "            for neighbor, edge_weight in graph[current_vertex].items():\n",
    "                if neighbor not in visited:\n",
    "                    # Add the neighbor and its weight to the priority queue\n",
    "                    pq.put((edge_weight, neighbor))\n",
    "    \n",
    "    return mst\n"
   ]
  },
  {
   "cell_type": "code",
   "execution_count": 2,
   "id": "86adc3fc",
   "metadata": {},
   "outputs": [
    {
     "name": "stdout",
     "output_type": "stream",
     "text": [
      "Minimum Spanning Tree:\n",
      "A -- 0\n",
      "B -- 2\n",
      "C -- 3\n",
      "D -- 1\n",
      "E -- 4\n"
     ]
    }
   ],
   "source": [
    "# Example graph represented as an adjacency list\n",
    "graph = {\n",
    "    'A': {'B': 2, 'D': 6},\n",
    "    'B': {'A': 2, 'C': 3, 'D': 8},\n",
    "    'C': {'B': 3, 'D': 1, 'E': 5},\n",
    "    'D': {'A': 6, 'B': 8, 'C': 1, 'E': 4},\n",
    "    'E': {'C': 5, 'D': 4}\n",
    "}\n",
    "\n",
    "minimum_spanning_tree = prim(graph)\n",
    "print(\"Minimum Spanning Tree:\")\n",
    "for weight, edge in minimum_spanning_tree:\n",
    "    print(edge, \"--\", weight)\n"
   ]
  },
  {
   "cell_type": "code",
   "execution_count": null,
   "id": "2e2d3e37",
   "metadata": {},
   "outputs": [],
   "source": []
  }
 ],
 "metadata": {
  "kernelspec": {
   "display_name": "Python 3 (ipykernel)",
   "language": "python",
   "name": "python3"
  },
  "language_info": {
   "codemirror_mode": {
    "name": "ipython",
    "version": 3
   },
   "file_extension": ".py",
   "mimetype": "text/x-python",
   "name": "python",
   "nbconvert_exporter": "python",
   "pygments_lexer": "ipython3",
   "version": "3.11.3"
  }
 },
 "nbformat": 4,
 "nbformat_minor": 5
}
