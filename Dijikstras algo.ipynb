{
 "cells": [
  {
   "cell_type": "code",
   "execution_count": 1,
   "id": "b017a9c6",
   "metadata": {},
   "outputs": [
    {
     "name": "stdout",
     "output_type": "stream",
     "text": [
      "Shortest distances from node A\n",
      "Node: A - Distance: 0\n",
      "Node: B - Distance: 4\n",
      "Node: C - Distance: 3\n",
      "Node: D - Distance: 5\n",
      "Node: E - Distance: 9\n"
     ]
    }
   ],
   "source": [
    "import sys\n",
    "\n",
    "def dijkstra(graph, start):\n",
    "    # Initialize distances to all nodes as infinity except the start node\n",
    "    distances = {node: sys.maxsize for node in graph}\n",
    "    distances[start] = 0\n",
    "\n",
    "    # Initialize an empty set to track visited nodes\n",
    "    visited = set()\n",
    "\n",
    "    # Loop through all nodes\n",
    "    while len(visited) != len(graph):\n",
    "        # Find the node with the minimum distance\n",
    "        min_distance = sys.maxsize\n",
    "        min_node = None\n",
    "        for node in graph:\n",
    "            if distances[node] < min_distance and node not in visited:\n",
    "                min_distance = distances[node]\n",
    "                min_node = node\n",
    "\n",
    "        # Mark the current node as visited\n",
    "        visited.add(min_node)\n",
    "\n",
    "        # Update distances to neighboring nodes\n",
    "        for neighbor, weight in graph[min_node].items():\n",
    "            distance = distances[min_node] + weight\n",
    "            if distance < distances[neighbor]:\n",
    "                distances[neighbor] = distance\n",
    "\n",
    "    return distances\n",
    "\n",
    "\n",
    "# Example usage\n",
    "graph = {\n",
    "    'A': {'B': 5, 'C': 3},\n",
    "    'B': {'A': 5, 'C': 1, 'D': 3},\n",
    "    'C': {'A': 3, 'B': 1, 'D': 2},\n",
    "    'D': {'B': 3, 'C': 2, 'E': 4},\n",
    "    'E': {'D': 4}\n",
    "}\n",
    "\n",
    "start_node = 'A'\n",
    "distances = dijkstra(graph, start_node)\n",
    "\n",
    "print(\"Shortest distances from node\", start_node)\n",
    "for node, distance in distances.items():\n",
    "    print(\"Node:\", node, \"- Distance:\", distance)\n"
   ]
  },
  {
   "cell_type": "code",
   "execution_count": null,
   "id": "d46843bb",
   "metadata": {},
   "outputs": [],
   "source": []
  }
 ],
 "metadata": {
  "kernelspec": {
   "display_name": "Python 3 (ipykernel)",
   "language": "python",
   "name": "python3"
  },
  "language_info": {
   "codemirror_mode": {
    "name": "ipython",
    "version": 3
   },
   "file_extension": ".py",
   "mimetype": "text/x-python",
   "name": "python",
   "nbconvert_exporter": "python",
   "pygments_lexer": "ipython3",
   "version": "3.11.3"
  }
 },
 "nbformat": 4,
 "nbformat_minor": 5
}
